{
 "cells": [
  {
   "cell_type": "code",
   "execution_count": 1,
   "id": "d45f8b34",
   "metadata": {},
   "outputs": [],
   "source": [
    "import pandas as pd\n",
    "import numpy as np\n",
    "from nltk.tokenize import word_tokenize\n",
    "from nltk import pos_tag\n",
    "from nltk.corpus import stopwords\n",
    "from nltk.stem import WordNetLemmatizer\n",
    "from sklearn.preprocessing import LabelEncoder\n",
    "from collections import defaultdict\n",
    "from nltk.corpus import wordnet as wn\n",
    "from sklearn.feature_extraction.text import TfidfVectorizer\n",
    "from sklearn import model_selection, svm\n",
    "from sklearn.metrics import accuracy_score\n",
    "import matplotlib.pyplot as plt"
   ]
  },
  {
   "cell_type": "code",
   "execution_count": 2,
   "id": "8890f2bc",
   "metadata": {},
   "outputs": [],
   "source": [
    "dataset = pd.read_csv('financial news dataset.csv',names=['Label','Headline'], encoding='ISO-8859-1')"
   ]
  },
  {
   "cell_type": "code",
   "execution_count": 3,
   "id": "cab45377",
   "metadata": {},
   "outputs": [
    {
     "data": {
      "text/html": [
       "<div>\n",
       "<style scoped>\n",
       "    .dataframe tbody tr th:only-of-type {\n",
       "        vertical-align: middle;\n",
       "    }\n",
       "\n",
       "    .dataframe tbody tr th {\n",
       "        vertical-align: top;\n",
       "    }\n",
       "\n",
       "    .dataframe thead th {\n",
       "        text-align: right;\n",
       "    }\n",
       "</style>\n",
       "<table border=\"1\" class=\"dataframe\">\n",
       "  <thead>\n",
       "    <tr style=\"text-align: right;\">\n",
       "      <th></th>\n",
       "      <th>Label</th>\n",
       "      <th>Headline</th>\n",
       "    </tr>\n",
       "  </thead>\n",
       "  <tbody>\n",
       "    <tr>\n",
       "      <th>0</th>\n",
       "      <td>neutral</td>\n",
       "      <td>According to Gran , the company has no plans t...</td>\n",
       "    </tr>\n",
       "    <tr>\n",
       "      <th>1</th>\n",
       "      <td>neutral</td>\n",
       "      <td>Technopolis plans to develop in stages an area...</td>\n",
       "    </tr>\n",
       "    <tr>\n",
       "      <th>2</th>\n",
       "      <td>negative</td>\n",
       "      <td>The international electronic industry company ...</td>\n",
       "    </tr>\n",
       "    <tr>\n",
       "      <th>3</th>\n",
       "      <td>positive</td>\n",
       "      <td>With the new production plant the company woul...</td>\n",
       "    </tr>\n",
       "    <tr>\n",
       "      <th>4</th>\n",
       "      <td>positive</td>\n",
       "      <td>According to the company 's updated strategy f...</td>\n",
       "    </tr>\n",
       "    <tr>\n",
       "      <th>5</th>\n",
       "      <td>positive</td>\n",
       "      <td>FINANCING OF ASPOCOMP 'S GROWTH Aspocomp is ag...</td>\n",
       "    </tr>\n",
       "    <tr>\n",
       "      <th>6</th>\n",
       "      <td>positive</td>\n",
       "      <td>For the last quarter of 2010 , Componenta 's n...</td>\n",
       "    </tr>\n",
       "    <tr>\n",
       "      <th>7</th>\n",
       "      <td>positive</td>\n",
       "      <td>In the third quarter of 2010 , net sales incre...</td>\n",
       "    </tr>\n",
       "    <tr>\n",
       "      <th>8</th>\n",
       "      <td>positive</td>\n",
       "      <td>Operating profit rose to EUR 13.1 mn from EUR ...</td>\n",
       "    </tr>\n",
       "    <tr>\n",
       "      <th>9</th>\n",
       "      <td>positive</td>\n",
       "      <td>Operating profit totalled EUR 21.1 mn , up fro...</td>\n",
       "    </tr>\n",
       "  </tbody>\n",
       "</table>\n",
       "</div>"
      ],
      "text/plain": [
       "      Label                                           Headline\n",
       "0   neutral  According to Gran , the company has no plans t...\n",
       "1   neutral  Technopolis plans to develop in stages an area...\n",
       "2  negative  The international electronic industry company ...\n",
       "3  positive  With the new production plant the company woul...\n",
       "4  positive  According to the company 's updated strategy f...\n",
       "5  positive  FINANCING OF ASPOCOMP 'S GROWTH Aspocomp is ag...\n",
       "6  positive  For the last quarter of 2010 , Componenta 's n...\n",
       "7  positive  In the third quarter of 2010 , net sales incre...\n",
       "8  positive  Operating profit rose to EUR 13.1 mn from EUR ...\n",
       "9  positive  Operating profit totalled EUR 21.1 mn , up fro..."
      ]
     },
     "execution_count": 3,
     "metadata": {},
     "output_type": "execute_result"
    }
   ],
   "source": [
    "dataset.head(10)"
   ]
  },
  {
   "cell_type": "code",
   "execution_count": 4,
   "id": "286097a0",
   "metadata": {},
   "outputs": [
    {
     "name": "stdout",
     "output_type": "stream",
     "text": [
      "<class 'pandas.core.frame.DataFrame'>\n",
      "RangeIndex: 4846 entries, 0 to 4845\n",
      "Data columns (total 2 columns):\n",
      " #   Column    Non-Null Count  Dtype \n",
      "---  ------    --------------  ----- \n",
      " 0   Label     4846 non-null   object\n",
      " 1   Headline  4846 non-null   object\n",
      "dtypes: object(2)\n",
      "memory usage: 75.8+ KB\n"
     ]
    }
   ],
   "source": [
    "dataset.info()"
   ]
  },
  {
   "cell_type": "markdown",
   "id": "63ede215",
   "metadata": {},
   "source": [
    "## Preprocessing"
   ]
  },
  {
   "cell_type": "code",
   "execution_count": 5,
   "id": "4078f5c6",
   "metadata": {},
   "outputs": [
    {
     "name": "stderr",
     "output_type": "stream",
     "text": [
      "[nltk_data] Downloading package punkt to\n",
      "[nltk_data]     C:\\Users\\Lenovo\\AppData\\Roaming\\nltk_data...\n",
      "[nltk_data]   Package punkt is already up-to-date!\n"
     ]
    },
    {
     "data": {
      "text/plain": [
       "True"
      ]
     },
     "execution_count": 5,
     "metadata": {},
     "output_type": "execute_result"
    }
   ],
   "source": [
    "import nltk\n",
    "nltk.download('punkt')"
   ]
  },
  {
   "cell_type": "code",
   "execution_count": 6,
   "id": "b036545c",
   "metadata": {},
   "outputs": [],
   "source": [
    "#Remove blank row if any\n",
    "dataset['Headline'].dropna(inplace=True)\n",
    "\n",
    "#Change all the text to lower case\n",
    "dataset['Headline'] = [entry.lower() for entry in dataset['Headline']]\n",
    "\n",
    "#Tokenization\n",
    "dataset['Headline'] = [word_tokenize(entry) for entry in dataset['Headline']]"
   ]
  },
  {
   "cell_type": "code",
   "execution_count": 7,
   "id": "11207147",
   "metadata": {},
   "outputs": [],
   "source": [
    "#Post Tagging\n",
    "tag_map = defaultdict(lambda : wn.NOUN)\n",
    "tag_map['J'] = wn.ADJ\n",
    "tag_map['V'] = wn.VERB\n",
    "tag_map['R'] = wn.ADV"
   ]
  },
  {
   "cell_type": "code",
   "execution_count": 8,
   "id": "3300b608",
   "metadata": {},
   "outputs": [],
   "source": [
    "for index, entry in enumerate(dataset['Headline']) :\n",
    "    #Declaring Empty List\n",
    "    Final_words = []\n",
    "    #Initializing WordNetLemmatizer()\n",
    "    word_Lemmatized = WordNetLemmatizer()\n",
    "    \n",
    "    for word, tag in pos_tag(entry):\n",
    "        #Check for Stop words and consider only alphabets\n",
    "        if word not in stopwords.words('english') and word.isalpha():\n",
    "            word_Final = word_Lemmatized.lemmatize(word,tag_map[tag[0]])\n",
    "            Final_words.append(word_Final)\n",
    "    dataset.loc[index,'Headline_final'] = str(Final_words)"
   ]
  },
  {
   "cell_type": "markdown",
   "id": "eabe2bb6",
   "metadata": {},
   "source": [
    "##  Data Snippet After Lemmatization."
   ]
  },
  {
   "cell_type": "code",
   "execution_count": 9,
   "id": "89ce149b",
   "metadata": {
    "scrolled": true
   },
   "outputs": [
    {
     "data": {
      "text/html": [
       "<div>\n",
       "<style scoped>\n",
       "    .dataframe tbody tr th:only-of-type {\n",
       "        vertical-align: middle;\n",
       "    }\n",
       "\n",
       "    .dataframe tbody tr th {\n",
       "        vertical-align: top;\n",
       "    }\n",
       "\n",
       "    .dataframe thead th {\n",
       "        text-align: right;\n",
       "    }\n",
       "</style>\n",
       "<table border=\"1\" class=\"dataframe\">\n",
       "  <thead>\n",
       "    <tr style=\"text-align: right;\">\n",
       "      <th></th>\n",
       "      <th>Label</th>\n",
       "      <th>Headline</th>\n",
       "      <th>Headline_final</th>\n",
       "    </tr>\n",
       "  </thead>\n",
       "  <tbody>\n",
       "    <tr>\n",
       "      <th>0</th>\n",
       "      <td>neutral</td>\n",
       "      <td>[according, to, gran, ,, the, company, has, no...</td>\n",
       "      <td>['accord', 'gran', 'company', 'plan', 'move', ...</td>\n",
       "    </tr>\n",
       "    <tr>\n",
       "      <th>1</th>\n",
       "      <td>neutral</td>\n",
       "      <td>[technopolis, plans, to, develop, in, stages, ...</td>\n",
       "      <td>['technopolis', 'plan', 'develop', 'stage', 'a...</td>\n",
       "    </tr>\n",
       "    <tr>\n",
       "      <th>2</th>\n",
       "      <td>negative</td>\n",
       "      <td>[the, international, electronic, industry, com...</td>\n",
       "      <td>['international', 'electronic', 'industry', 'c...</td>\n",
       "    </tr>\n",
       "    <tr>\n",
       "      <th>3</th>\n",
       "      <td>positive</td>\n",
       "      <td>[with, the, new, production, plant, the, compa...</td>\n",
       "      <td>['new', 'production', 'plant', 'company', 'wou...</td>\n",
       "    </tr>\n",
       "    <tr>\n",
       "      <th>4</th>\n",
       "      <td>positive</td>\n",
       "      <td>[according, to, the, company, 's, updated, str...</td>\n",
       "      <td>['accord', 'company', 'updated', 'strategy', '...</td>\n",
       "    </tr>\n",
       "    <tr>\n",
       "      <th>5</th>\n",
       "      <td>positive</td>\n",
       "      <td>[financing, of, aspocomp, 's, growth, aspocomp...</td>\n",
       "      <td>['financing', 'aspocomp', 'growth', 'aspocomp'...</td>\n",
       "    </tr>\n",
       "    <tr>\n",
       "      <th>6</th>\n",
       "      <td>positive</td>\n",
       "      <td>[for, the, last, quarter, of, 2010, ,, compone...</td>\n",
       "      <td>['last', 'quarter', 'componenta', 'net', 'sale...</td>\n",
       "    </tr>\n",
       "    <tr>\n",
       "      <th>7</th>\n",
       "      <td>positive</td>\n",
       "      <td>[in, the, third, quarter, of, 2010, ,, net, sa...</td>\n",
       "      <td>['third', 'quarter', 'net', 'sale', 'increase'...</td>\n",
       "    </tr>\n",
       "    <tr>\n",
       "      <th>8</th>\n",
       "      <td>positive</td>\n",
       "      <td>[operating, profit, rose, to, eur, 13.1, mn, f...</td>\n",
       "      <td>['operating', 'profit', 'rise', 'eur', 'mn', '...</td>\n",
       "    </tr>\n",
       "    <tr>\n",
       "      <th>9</th>\n",
       "      <td>positive</td>\n",
       "      <td>[operating, profit, totalled, eur, 21.1, mn, ,...</td>\n",
       "      <td>['operating', 'profit', 'total', 'eur', 'mn', ...</td>\n",
       "    </tr>\n",
       "  </tbody>\n",
       "</table>\n",
       "</div>"
      ],
      "text/plain": [
       "      Label                                           Headline  \\\n",
       "0   neutral  [according, to, gran, ,, the, company, has, no...   \n",
       "1   neutral  [technopolis, plans, to, develop, in, stages, ...   \n",
       "2  negative  [the, international, electronic, industry, com...   \n",
       "3  positive  [with, the, new, production, plant, the, compa...   \n",
       "4  positive  [according, to, the, company, 's, updated, str...   \n",
       "5  positive  [financing, of, aspocomp, 's, growth, aspocomp...   \n",
       "6  positive  [for, the, last, quarter, of, 2010, ,, compone...   \n",
       "7  positive  [in, the, third, quarter, of, 2010, ,, net, sa...   \n",
       "8  positive  [operating, profit, rose, to, eur, 13.1, mn, f...   \n",
       "9  positive  [operating, profit, totalled, eur, 21.1, mn, ,...   \n",
       "\n",
       "                                      Headline_final  \n",
       "0  ['accord', 'gran', 'company', 'plan', 'move', ...  \n",
       "1  ['technopolis', 'plan', 'develop', 'stage', 'a...  \n",
       "2  ['international', 'electronic', 'industry', 'c...  \n",
       "3  ['new', 'production', 'plant', 'company', 'wou...  \n",
       "4  ['accord', 'company', 'updated', 'strategy', '...  \n",
       "5  ['financing', 'aspocomp', 'growth', 'aspocomp'...  \n",
       "6  ['last', 'quarter', 'componenta', 'net', 'sale...  \n",
       "7  ['third', 'quarter', 'net', 'sale', 'increase'...  \n",
       "8  ['operating', 'profit', 'rise', 'eur', 'mn', '...  \n",
       "9  ['operating', 'profit', 'total', 'eur', 'mn', ...  "
      ]
     },
     "execution_count": 9,
     "metadata": {},
     "output_type": "execute_result"
    }
   ],
   "source": [
    "dataset.head(10)"
   ]
  },
  {
   "cell_type": "markdown",
   "id": "00af9a28",
   "metadata": {},
   "source": [
    "## Exploratory Data Analysis"
   ]
  },
  {
   "cell_type": "code",
   "execution_count": 10,
   "id": "606bc1aa",
   "metadata": {},
   "outputs": [
    {
     "data": {
      "image/png": "[encoded data removed]",
      "text/plain": [
       "<Figure size 640x480 with 1 Axes>"
      ]
     },
     "metadata": {},
     "output_type": "display_data"
    }
   ],
   "source": [
    "fig, ax = plt.subplots()\n",
    "ax = plt.bar(['neutral','positive','negative'], dataset['Label'].value_counts().values)\n"
   ]
  },
  {
   "cell_type": "markdown",
   "id": "56a71f84",
   "metadata": {},
   "source": [
    "The data is unbalanced. To avoid bias, the data needs to be balanced so that the number of instances in each category is the same."
   ]
  },
  {
   "cell_type": "code",
   "execution_count": 11,
   "id": "7b43ba4a",
   "metadata": {},
   "outputs": [
    {
     "data": {
      "image/png": "[encoded data removed]",
      "text/plain": [
       "<Figure size 640x480 with 1 Axes>"
      ]
     },
     "metadata": {},
     "output_type": "display_data"
    }
   ],
   "source": [
    "#Class count\n",
    "count_neutral, count_positive, count_negative = dataset.Label.value_counts()\n",
    "\n",
    "#Divide by class\n",
    "dataset_neutral = dataset[dataset['Label'] == 'neutral']\n",
    "dataset_positive = dataset[dataset['Label'] == 'positive']\n",
    "dataset_negative = dataset[dataset['Label'] == 'negative']\n",
    "\n",
    "dataset_neutral_under = dataset_neutral.sample(count_negative)\n",
    "dataset_positive_under = dataset_positive.sample(count_negative)\n",
    "\n",
    "dataset_balance = pd.concat([dataset_neutral_under, dataset_positive_under, dataset_negative], axis=0)\n",
    "dataset_balance.Label.value_counts().plot(kind='bar');"
   ]
  },
  {
   "cell_type": "code",
   "execution_count": 12,
   "id": "39303fb0",
   "metadata": {},
   "outputs": [
    {
     "name": "stdout",
     "output_type": "stream",
     "text": [
      "<class 'pandas.core.frame.DataFrame'>\n",
      "Int64Index: 1812 entries, 1354 to 4845\n",
      "Data columns (total 3 columns):\n",
      " #   Column          Non-Null Count  Dtype \n",
      "---  ------          --------------  ----- \n",
      " 0   Label           1812 non-null   object\n",
      " 1   Headline        1812 non-null   object\n",
      " 2   Headline_final  1812 non-null   object\n",
      "dtypes: object(3)\n",
      "memory usage: 56.6+ KB\n"
     ]
    }
   ],
   "source": [
    "dataset_balance.info()"
   ]
  },
  {
   "cell_type": "markdown",
   "id": "a17c26a8",
   "metadata": {},
   "source": [
    "After balancing, the total number of data used is 604 data in each category."
   ]
  },
  {
   "cell_type": "markdown",
   "id": "85a8b3a6",
   "metadata": {},
   "source": [
    "## Splitting Data "
   ]
  },
  {
   "cell_type": "markdown",
   "id": "90a73e43",
   "metadata": {},
   "source": [
    "The data is divided into training and testing data. The proportion of data for testing is 30%."
   ]
  },
  {
   "cell_type": "code",
   "execution_count": 13,
   "id": "c8127a54",
   "metadata": {},
   "outputs": [],
   "source": [
    "#Split the model into Train and Test Dataset\n",
    "\n",
    "X_train, X_test, y_train, y_test = model_selection.train_test_split(dataset_balance['Headline_final'],dataset_balance['Label'],test_size=0.3)"
   ]
  },
  {
   "cell_type": "markdown",
   "id": "f7470b83",
   "metadata": {},
   "source": [
    "## Tf-Idf Vectorizing "
   ]
  },
  {
   "cell_type": "markdown",
   "id": "6b0d78b2",
   "metadata": {},
   "source": [
    "Converting string data in the target variable into numerical values."
   ]
  },
  {
   "cell_type": "code",
   "execution_count": 14,
   "id": "9ce40275",
   "metadata": {},
   "outputs": [],
   "source": [
    "#Label encode the target variable\n",
    "Encoder = LabelEncoder()\n",
    "y_train = Encoder.fit_transform(y_train)\n",
    "y_test = Encoder.fit_transform(y_test)"
   ]
  },
  {
   "cell_type": "markdown",
   "id": "b457a932",
   "metadata": {},
   "source": [
    "Vectorizing words in the training data using TF-IDF to determine the importance of words within a document."
   ]
  },
  {
   "cell_type": "code",
   "execution_count": 15,
   "id": "35ad89a5",
   "metadata": {},
   "outputs": [],
   "source": [
    "#Vectorize the words by using Tf-Idf Vectorizer\n",
    "Tfidf_vect = TfidfVectorizer(max_features=5000)\n",
    "Tfidf_vect.fit(dataset_balance['Headline_final'])\n",
    "X_train_Tfidf = Tfidf_vect.transform(X_train)"
   ]
  },
  {
   "cell_type": "markdown",
   "id": "bd0960a5",
   "metadata": {},
   "source": [
    "## Build SVM Model & Train Data "
   ]
  },
  {
   "cell_type": "markdown",
   "id": "f19e80db",
   "metadata": {},
   "source": [
    "Building an SVM model with a linear kernel and a penalty parameter of 1. Training the data with the constructed model."
   ]
  },
  {
   "cell_type": "code",
   "execution_count": 16,
   "id": "ea1f0383",
   "metadata": {},
   "outputs": [
    {
     "data": {
      "text/plain": [
       "SVC(gamma='auto', kernel='linear', random_state=42)"
      ]
     },
     "execution_count": 16,
     "metadata": {},
     "output_type": "execute_result"
    }
   ],
   "source": [
    "#Classifier - Algorithm - SVM \n",
    "#fit the training dataset on the classifier\n",
    "SVM = svm.SVC(C=1.0, kernel='linear',degree=3, gamma='auto',random_state=42)\n",
    "SVM.fit(X_train_Tfidf,y_train)"
   ]
  },
  {
   "cell_type": "code",
   "execution_count": 17,
   "id": "02f9f907",
   "metadata": {},
   "outputs": [],
   "source": [
    "#predict the labels on validation dataset\n",
    "X_test_Tfidf = Tfidf_vect.transform(X_test)\n",
    "predictions_SVM = SVM.predict(X_test_Tfidf)"
   ]
  },
  {
   "cell_type": "markdown",
   "id": "5eb21859",
   "metadata": {},
   "source": [
    "## Test the Accuracy "
   ]
  },
  {
   "cell_type": "code",
   "execution_count": 18,
   "id": "a09dfe89",
   "metadata": {},
   "outputs": [
    {
     "name": "stdout",
     "output_type": "stream",
     "text": [
      "SVM Accuracy Score ->  69.11764705882352\n"
     ]
    }
   ],
   "source": [
    "#Use accuracy_score function to get the accuracy\n",
    "print(\"SVM Accuracy Score -> \",accuracy_score(predictions_SVM,y_test)*100)"
   ]
  },
  {
   "cell_type": "code",
   "execution_count": 19,
   "id": "ff436e77",
   "metadata": {},
   "outputs": [
    {
     "name": "stdout",
     "output_type": "stream",
     "text": [
      "              precision    recall  f1-score   support\n",
      "\n",
      "    negative       0.76      0.70      0.73       183\n",
      "    positive       0.62      0.78      0.69       179\n",
      "     neutral       0.72      0.59      0.65       182\n",
      "\n",
      "    accuracy                           0.69       544\n",
      "   macro avg       0.70      0.69      0.69       544\n",
      "weighted avg       0.70      0.69      0.69       544\n",
      "\n"
     ]
    }
   ],
   "source": [
    "from sklearn.metrics import classification_report,confusion_matrix,accuracy_score\n",
    "#Classification report for tfidf features\n",
    "svm_tfidf_report=classification_report(y_test,predictions_SVM,target_names=['negative','positive','neutral'])\n",
    "print(svm_tfidf_report)"
   ]
  },
  {
   "cell_type": "markdown",
   "id": "0621068f",
   "metadata": {},
   "source": [
    "## Cross Validation "
   ]
  },
  {
   "cell_type": "code",
   "execution_count": 20,
   "id": "cc77cd8c",
   "metadata": {},
   "outputs": [
    {
     "name": "stdout",
     "output_type": "stream",
     "text": [
      "[0.63085399 0.66942149 0.62983425 0.72375691 0.66574586]\n",
      "0.66 accuracy with a standard deviation of 0.03\n"
     ]
    }
   ],
   "source": [
    "X_Tfidf = Tfidf_vect.transform(dataset_balance['Headline_final'])\n",
    "y = Encoder.fit_transform(dataset_balance['Label'])\n",
    "\n",
    "from sklearn.model_selection import cross_val_score\n",
    "scores = cross_val_score(SVM, X_Tfidf, y, cv=5)\n",
    "\n",
    "print(scores)\n",
    "\n",
    "print(\"%0.2f accuracy with a standard deviation of %0.2f\" %(scores.mean(), scores.std()))"
   ]
  },
  {
   "cell_type": "markdown",
   "id": "d6f054ba",
   "metadata": {},
   "source": [
    "Cross-validation is performed by dividing the data into 5 folds and conducting training 5 times. The accuracy results from each training process are 0.60881543, 0.63636364, 0.62983425, 0.70165746, and 0.68508287. As a result, the average accuracy of 65% is obtained with a standard deviation of 0.04."
   ]
  }
 ],
 "metadata": {
  "kernelspec": {
   "display_name": "Python 3 (ipykernel)",
   "language": "python",
   "name": "python3"
  },
  "language_info": {
   "codemirror_mode": {
    "name": "ipython",
    "version": 3
   },
   "file_extension": ".py",
   "mimetype": "text/x-python",
   "name": "python",
   "nbconvert_exporter": "python",
   "pygments_lexer": "ipython3",
   "version": "3.9.13"
  }
 },
 "nbformat": 4,
 "nbformat_minor": 5
}
